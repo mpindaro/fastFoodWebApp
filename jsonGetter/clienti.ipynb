{
 "cells": [
  {
   "cell_type": "code",
   "execution_count": 1,
   "metadata": {},
   "outputs": [],
   "source": [
    "import json\n",
    "import numpy as np\n",
    "import random"
   ]
  },
  {
   "cell_type": "code",
   "execution_count": 2,
   "metadata": {},
   "outputs": [],
   "source": [
    "clienti=[]"
   ]
  },
  {
   "cell_type": "code",
   "execution_count": 3,
   "metadata": {},
   "outputs": [],
   "source": [
    "def pagamento():\n",
    "    pagamenti=[\"Carta di credito\", \"Paypal\", \"Contanti\"]\n",
    "    return np.random.choice(pagamenti, 1)[0]"
   ]
  },
  {
   "cell_type": "code",
   "execution_count": 4,
   "metadata": {},
   "outputs": [
    {
     "name": "stdout",
     "output_type": "stream",
     "text": [
      "nome Stanislao\n",
      "cognome Calabrese\n",
      "password pippo\n",
      "Contanti\n",
      "nome Sandra\n",
      "cognome Ricci\n",
      "password ricciolidoro\n",
      "Carta di credito4916 4825 6039 9128\n",
      "nome Gloria\n",
      "cognome Mancini\n",
      "password provolazza\n",
      "Carta di credito5227 9612 8038 1236\n",
      "nome Paolo\n",
      "cognome Bellucci\n",
      "password carotino\n",
      "Contanti\n",
      "nome Anselmo\n",
      "cognome Beneventi\n",
      "password 1234\n",
      "Paypalanselmo.beneventi@gmail.com\n",
      "nome Giorgio\n",
      "cognome Sagese\n",
      "password frizzantino\n",
      "Carta di credito4716 6853 3236 9904\n",
      "nome Renata\n",
      "cognome Siciliani\n",
      "password ponyta\n",
      "Paypalmario.fiorentini@gmail.com\n",
      "nome Piero\n",
      "cognome Russo\n",
      "password ferrarilover95\n",
      "Paypalsalvatore.russo@gmail.com\n",
      "nome Nicola\n",
      "cognome Loduca\n",
      "password avadakedavra51\n",
      "Carta di credito4916 4760 7759 4999\n",
      "nome Giordana\n",
      "cognome Mazzetti\n",
      "password farnesina\n",
      "Carta di credito4539 0051 8946 3749\n"
     ]
    }
   ],
   "source": [
    "for i in range (0,10):\n",
    "    nome=input(\"nome \")\n",
    "    cognome = input(\"cognome \")\n",
    "    mail=nome+\".\"+cognome+\"@gmail.com\"\n",
    "    password=input(\"password \")\n",
    "    tipoPagamento=pagamento()\n",
    "    dettagliPagamento= input(tipoPagamento)\n",
    "    preferenzePrivacy= { 'trattamento': random.randint(0, 1), \\\n",
    "                        'personalizzazione':random.randint(0, 1), 'newsletter': random.randint(0, 1)}\n",
    "    clienti.append({'mail':mail, 'password':password, 'nome': nome, 'cognome': cognome,\\\n",
    "                    'tipoPagamento': tipoPagamento, 'dettagliPagamento':dettagliPagamento})\n",
    "    \n",
    "    \n",
    "    "
   ]
  },
  {
   "cell_type": "code",
   "execution_count": 5,
   "metadata": {},
   "outputs": [
    {
     "data": {
      "text/plain": [
       "[{'mail': 'Stanislao.Calabrese@gmail.com',\n",
       "  'password': 'pippo',\n",
       "  'nome': 'Stanislao',\n",
       "  'cognome': 'Calabrese',\n",
       "  'tipoPagamento': 'Contanti',\n",
       "  'dettagliPagamento': ''},\n",
       " {'mail': 'Sandra.Ricci@gmail.com',\n",
       "  'password': 'ricciolidoro',\n",
       "  'nome': 'Sandra',\n",
       "  'cognome': 'Ricci',\n",
       "  'tipoPagamento': 'Carta di credito',\n",
       "  'dettagliPagamento': '4916 4825 6039 9128'},\n",
       " {'mail': 'Gloria.Mancini@gmail.com',\n",
       "  'password': 'provolazza',\n",
       "  'nome': 'Gloria',\n",
       "  'cognome': 'Mancini',\n",
       "  'tipoPagamento': 'Carta di credito',\n",
       "  'dettagliPagamento': '5227 9612 8038 1236'},\n",
       " {'mail': 'Paolo.Bellucci@gmail.com',\n",
       "  'password': 'carotino',\n",
       "  'nome': 'Paolo',\n",
       "  'cognome': 'Bellucci',\n",
       "  'tipoPagamento': 'Contanti',\n",
       "  'dettagliPagamento': ''},\n",
       " {'mail': 'Anselmo.Beneventi@gmail.com',\n",
       "  'password': '1234',\n",
       "  'nome': 'Anselmo',\n",
       "  'cognome': 'Beneventi',\n",
       "  'tipoPagamento': 'Paypal',\n",
       "  'dettagliPagamento': 'anselmo.beneventi@gmail.com'},\n",
       " {'mail': 'Giorgio.Sagese@gmail.com',\n",
       "  'password': 'frizzantino',\n",
       "  'nome': 'Giorgio',\n",
       "  'cognome': 'Sagese',\n",
       "  'tipoPagamento': 'Carta di credito',\n",
       "  'dettagliPagamento': '4716 6853 3236 9904'},\n",
       " {'mail': 'Renata.Siciliani@gmail.com',\n",
       "  'password': 'ponyta',\n",
       "  'nome': 'Renata',\n",
       "  'cognome': 'Siciliani',\n",
       "  'tipoPagamento': 'Paypal',\n",
       "  'dettagliPagamento': 'mario.fiorentini@gmail.com'},\n",
       " {'mail': 'Piero.Russo@gmail.com',\n",
       "  'password': 'ferrarilover95',\n",
       "  'nome': 'Piero',\n",
       "  'cognome': 'Russo',\n",
       "  'tipoPagamento': 'Paypal',\n",
       "  'dettagliPagamento': 'salvatore.russo@gmail.com'},\n",
       " {'mail': 'Nicola.Loduca@gmail.com',\n",
       "  'password': 'avadakedavra51',\n",
       "  'nome': 'Nicola',\n",
       "  'cognome': 'Loduca',\n",
       "  'tipoPagamento': 'Carta di credito',\n",
       "  'dettagliPagamento': '4916 4760 7759 4999'},\n",
       " {'mail': 'Giordana.Mazzetti@gmail.com',\n",
       "  'password': 'farnesina',\n",
       "  'nome': 'Giordana',\n",
       "  'cognome': 'Mazzetti',\n",
       "  'tipoPagamento': 'Carta di credito',\n",
       "  'dettagliPagamento': '4539 0051 8946 3749'}]"
      ]
     },
     "execution_count": 5,
     "metadata": {},
     "output_type": "execute_result"
    }
   ],
   "source": [
    "clienti"
   ]
  },
  {
   "cell_type": "code",
   "execution_count": 9,
   "metadata": {},
   "outputs": [],
   "source": [
    "for i in range(0,len(clienti)):\n",
    "    preferenzePrivacy= { 'trattamento': 1, \\\n",
    "                        'personalizzazione':random.randint(0, 1), 'newsletter': random.randint(0, 1)}\n",
    "    clienti[i]['preferenzePrivacy'] = preferenzePrivacy"
   ]
  },
  {
   "cell_type": "code",
   "execution_count": 10,
   "metadata": {},
   "outputs": [
    {
     "data": {
      "text/plain": [
       "[{'mail': 'Stanislao.Calabrese@gmail.com',\n",
       "  'password': 'pippo',\n",
       "  'nome': 'Stanislao',\n",
       "  'cognome': 'Calabrese',\n",
       "  'tipoPagamento': 'Contanti',\n",
       "  'dettagliPagamento': '',\n",
       "  'preferenzePrivacy': {'trattamento': 1,\n",
       "   'personalizzazione': 0,\n",
       "   'newsletter': 0}},\n",
       " {'mail': 'Sandra.Ricci@gmail.com',\n",
       "  'password': 'ricciolidoro',\n",
       "  'nome': 'Sandra',\n",
       "  'cognome': 'Ricci',\n",
       "  'tipoPagamento': 'Carta di credito',\n",
       "  'dettagliPagamento': '4916 4825 6039 9128',\n",
       "  'preferenzePrivacy': {'trattamento': 1,\n",
       "   'personalizzazione': 1,\n",
       "   'newsletter': 0}},\n",
       " {'mail': 'Gloria.Mancini@gmail.com',\n",
       "  'password': 'provolazza',\n",
       "  'nome': 'Gloria',\n",
       "  'cognome': 'Mancini',\n",
       "  'tipoPagamento': 'Carta di credito',\n",
       "  'dettagliPagamento': '5227 9612 8038 1236',\n",
       "  'preferenzePrivacy': {'trattamento': 1,\n",
       "   'personalizzazione': 1,\n",
       "   'newsletter': 1}},\n",
       " {'mail': 'Paolo.Bellucci@gmail.com',\n",
       "  'password': 'carotino',\n",
       "  'nome': 'Paolo',\n",
       "  'cognome': 'Bellucci',\n",
       "  'tipoPagamento': 'Contanti',\n",
       "  'dettagliPagamento': '',\n",
       "  'preferenzePrivacy': {'trattamento': 1,\n",
       "   'personalizzazione': 0,\n",
       "   'newsletter': 1}},\n",
       " {'mail': 'Anselmo.Beneventi@gmail.com',\n",
       "  'password': '1234',\n",
       "  'nome': 'Anselmo',\n",
       "  'cognome': 'Beneventi',\n",
       "  'tipoPagamento': 'Paypal',\n",
       "  'dettagliPagamento': 'anselmo.beneventi@gmail.com',\n",
       "  'preferenzePrivacy': {'trattamento': 1,\n",
       "   'personalizzazione': 1,\n",
       "   'newsletter': 1}},\n",
       " {'mail': 'Giorgio.Sagese@gmail.com',\n",
       "  'password': 'frizzantino',\n",
       "  'nome': 'Giorgio',\n",
       "  'cognome': 'Sagese',\n",
       "  'tipoPagamento': 'Carta di credito',\n",
       "  'dettagliPagamento': '4716 6853 3236 9904',\n",
       "  'preferenzePrivacy': {'trattamento': 1,\n",
       "   'personalizzazione': 1,\n",
       "   'newsletter': 0}},\n",
       " {'mail': 'Renata.Siciliani@gmail.com',\n",
       "  'password': 'ponyta',\n",
       "  'nome': 'Renata',\n",
       "  'cognome': 'Siciliani',\n",
       "  'tipoPagamento': 'Paypal',\n",
       "  'dettagliPagamento': 'mario.fiorentini@gmail.com',\n",
       "  'preferenzePrivacy': {'trattamento': 1,\n",
       "   'personalizzazione': 1,\n",
       "   'newsletter': 0}},\n",
       " {'mail': 'Piero.Russo@gmail.com',\n",
       "  'password': 'ferrarilover95',\n",
       "  'nome': 'Piero',\n",
       "  'cognome': 'Russo',\n",
       "  'tipoPagamento': 'Paypal',\n",
       "  'dettagliPagamento': 'salvatore.russo@gmail.com',\n",
       "  'preferenzePrivacy': {'trattamento': 1,\n",
       "   'personalizzazione': 1,\n",
       "   'newsletter': 1}},\n",
       " {'mail': 'Nicola.Loduca@gmail.com',\n",
       "  'password': 'avadakedavra51',\n",
       "  'nome': 'Nicola',\n",
       "  'cognome': 'Loduca',\n",
       "  'tipoPagamento': 'Carta di credito',\n",
       "  'dettagliPagamento': '4916 4760 7759 4999',\n",
       "  'preferenzePrivacy': {'trattamento': 1,\n",
       "   'personalizzazione': 0,\n",
       "   'newsletter': 0}},\n",
       " {'mail': 'Giordana.Mazzetti@gmail.com',\n",
       "  'password': 'farnesina',\n",
       "  'nome': 'Giordana',\n",
       "  'cognome': 'Mazzetti',\n",
       "  'tipoPagamento': 'Carta di credito',\n",
       "  'dettagliPagamento': '4539 0051 8946 3749',\n",
       "  'preferenzePrivacy': {'trattamento': 1,\n",
       "   'personalizzazione': 0,\n",
       "   'newsletter': 0}}]"
      ]
     },
     "execution_count": 10,
     "metadata": {},
     "output_type": "execute_result"
    }
   ],
   "source": [
    "clienti"
   ]
  },
  {
   "cell_type": "code",
   "execution_count": 11,
   "metadata": {},
   "outputs": [],
   "source": [
    "with open(\"clienti.json\", \"w\") as writefile:\n",
    "    json.dump(clienti, writefile, indent=1)"
   ]
  }
 ],
 "metadata": {
  "kernelspec": {
   "display_name": "Python 3",
   "language": "python",
   "name": "python3"
  },
  "language_info": {
   "codemirror_mode": {
    "name": "ipython",
    "version": 3
   },
   "file_extension": ".py",
   "mimetype": "text/x-python",
   "name": "python",
   "nbconvert_exporter": "python",
   "pygments_lexer": "ipython3",
   "version": "3.7.4"
  }
 },
 "nbformat": 4,
 "nbformat_minor": 2
}
