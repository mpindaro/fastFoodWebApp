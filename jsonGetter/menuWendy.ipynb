{
 "cells": [
  {
   "cell_type": "code",
   "execution_count": 1,
   "metadata": {},
   "outputs": [],
   "source": [
    "import pandas as pd\n",
    "import json\n",
    "import requests"
   ]
  },
  {
   "cell_type": "markdown",
   "metadata": {},
   "source": [
    "Elementi da escludere perchè facenti parte di combo, sfuggiti ad altri controlli e quindi presi manualmente"
   ]
  },
  {
   "cell_type": "code",
   "execution_count": 2,
   "metadata": {},
   "outputs": [],
   "source": [
    "escludere=[30276, 30303, 30304, 30853, 30907, 30908, 30914, 30915,30917,30918,30919,30920,30928,30929,30930]"
   ]
  },
  {
   "cell_type": "markdown",
   "metadata": {},
   "source": [
    "Da json di wendys a json per me"
   ]
  },
  {
   "cell_type": "code",
   "execution_count": 3,
   "metadata": {
    "scrolled": true
   },
   "outputs": [],
   "source": [
    "with open(\"getSiteMenu.json\",\"r\") as filemenuog:\n",
    "    menuog=json.load(filemenuog)"
   ]
  },
  {
   "cell_type": "code",
   "execution_count": 4,
   "metadata": {
    "scrolled": true
   },
   "outputs": [],
   "source": [
    "menuItems=menuog[\"menuLists\"][\"menuItems\"]"
   ]
  },
  {
   "cell_type": "code",
   "execution_count": 5,
   "metadata": {},
   "outputs": [],
   "source": [
    "salesItems=menuog[\"menuLists\"][\"salesItems\"]\n",
    "modifiers=menuog[\"menuLists\"][\"modifiers\"]"
   ]
  },
  {
   "cell_type": "code",
   "execution_count": 6,
   "metadata": {},
   "outputs": [],
   "source": [
    "menu=[]"
   ]
  },
  {
   "cell_type": "markdown",
   "metadata": {},
   "source": [
    "Solo quello che mi serve cercando di evitare le combo"
   ]
  },
  {
   "cell_type": "code",
   "execution_count": 7,
   "metadata": {
    "scrolled": true
   },
   "outputs": [],
   "source": [
    "for i in range (0, len(menuItems)):\n",
    "    try:\n",
    "        if \"comboConfigId\" not in menuItems[i].keys() and menuItems[i][\"menuItemId\"] not in escludere:\n",
    "            item={\"ID\": menuItems[i][\"menuItemId\"],\"nImmagine\":menuItems[i][\"baseImageName\"],\\\n",
    "           \"descrizione\": menuItems[i][\"description\"], \"nome\": menuItems[i][\"displayName\"],\\\n",
    "           \"calorie\":menuItems[i][\"calorieRange\"],\\\n",
    "            \"prezzo\":menuItems[i][\"priceRange\"], \"fk\":menuItems[i][\"defaultItemId\"]}\n",
    "            menu.append(item)\n",
    "    except KeyError: pass\n"
   ]
  },
  {
   "cell_type": "markdown",
   "metadata": {},
   "source": [
    "Salvo ingredienti e categoria che erano nell'altro json"
   ]
  },
  {
   "cell_type": "code",
   "execution_count": 8,
   "metadata": {},
   "outputs": [],
   "source": [
    "for i in range (0, len(menu)):\n",
    "    try:\n",
    "        IDsale=menu[i][\"fk\"]\n",
    "        item=[itemS for itemS in salesItems if itemS[\"salesItemId\"]==IDsale][0]\n",
    "        menu[i][\"categoria\"]=item[\"categoryName\"]\n",
    "        menu[i][\"ingredienti\"]=[ingrediente[\"modifierId\"] for ingrediente in item[\"defaultOptions\"]]\n",
    "        del(menu[i][\"fk\"])\n",
    "    except KeyError: pass\n"
   ]
  },
  {
   "cell_type": "code",
   "execution_count": 9,
   "metadata": {},
   "outputs": [],
   "source": [
    "for i in range (0, len(menu)):\n",
    "    try:\n",
    "        if menu[i][\"categoria\"]==\"Cheeseburgers\":\n",
    "            menu[i][\"tempoPreparazione\"]=3.5\n",
    "        elif menu[i][\"categoria\"]==\"Chicken, Wraps & More\":\n",
    "            menu[i][\"tempoPreparazione\"]=3\n",
    "        elif menu[i][\"categoria\"]==\"Fresh-Made Salads\":\n",
    "            menu[i][\"tempoPreparazione\"]=6\n",
    "        elif menu[i][\"categoria\"]==\"Fries & Sides\":\n",
    "            menu[i][\"tempoPreparazione\"]=2\n",
    "        elif menu[i][\"categoria\"]==\"Beverages\":\n",
    "            menu[i][\"tempoPreparazione\"]=0\n",
    "        elif menu[i][\"categoria\"]==\"Frosty\":\n",
    "            menu[i][\"tempoPreparazione\"]=2\n",
    "        elif menu[i][\"categoria\"]==\"Bakery\":\n",
    "            menu[i][\"tempoPreparazione\"]=1.5\n",
    "        elif menu[i][\"categoria\"]==\"Sides & More\":\n",
    "            menu[i][\"tempoPreparazione\"]=1\n",
    "        elif menu[i][\"categoria\"]==\"Classics\":\n",
    "            menu[i][\"tempoPreparazione\"]=4\n",
    "        elif menu[i][\"categoria\"]==\"Croissants\":\n",
    "            menu[i][\"tempoPreparazione\"]=3.5\n",
    "        elif menu[i][\"categoria\"]==\"Biscuits\":\n",
    "            menu[i][\"tempoPreparazione\"]=3\n",
    "    except KeyError: pass\n"
   ]
  },
  {
   "cell_type": "code",
   "execution_count": 11,
   "metadata": {},
   "outputs": [],
   "source": [
    "ingredienti=[]\n",
    "for i in range (0, len(modifiers)):\n",
    "    try:\n",
    "        item={\"ID\": modifiers[i][\"modifierId\"],\"nome\":modifiers[i][\"displayName\"],\\\n",
    "       \"descrizione\": modifiers[i][\"description\"]}\n",
    "        ingredienti.append(item)\n",
    "    except KeyError: pass"
   ]
  },
  {
   "cell_type": "code",
   "execution_count": 15,
   "metadata": {},
   "outputs": [
    {
     "data": {
      "text/plain": [
       "105"
      ]
     },
     "execution_count": 15,
     "metadata": {},
     "output_type": "execute_result"
    }
   ],
   "source": [
    "len(menu)"
   ]
  },
  {
   "cell_type": "markdown",
   "metadata": {},
   "source": [
    "Salvo il json degli ingredienti"
   ]
  },
  {
   "cell_type": "code",
   "execution_count": 12,
   "metadata": {},
   "outputs": [],
   "source": [
    "with open(\"ingredienti.json\", \"w\") as writefile:\n",
    "    json.dump(ingredienti, writefile, indent=1)"
   ]
  },
  {
   "cell_type": "markdown",
   "metadata": {},
   "source": [
    "Salvo le pic"
   ]
  },
  {
   "cell_type": "markdown",
   "metadata": {},
   "source": [
    "for item in menu:\n",
    "    nPic=item[\"nImmagine\"]\n",
    "    idItem=item[\"ID\"]\n",
    "    Picture_request = requests.get(\"https://app.wendys.com/unified/assets/menu/pg-cropped/\"+str(nPic)+\"_medium_US_en.jpg\")\n",
    "    if Picture_request.status_code == 200:\n",
    "        with open(\"picMenu/\"+ str(idItem) + \".jpg\", 'wb') as f:\n",
    "            f.write(Picture_request.content)"
   ]
  },
  {
   "cell_type": "code",
   "execution_count": 13,
   "metadata": {},
   "outputs": [],
   "source": [
    "for i in range(0, len(menu)):\n",
    "    del(menu[i][\"nImmagine\"])"
   ]
  },
  {
   "cell_type": "markdown",
   "metadata": {},
   "source": [
    "Salvo il json del menu"
   ]
  },
  {
   "cell_type": "code",
   "execution_count": 14,
   "metadata": {},
   "outputs": [],
   "source": [
    "with open(\"menu.json\", \"w\") as writefile:\n",
    "    json.dump(menu, writefile, indent=1)"
   ]
  }
 ],
 "metadata": {
  "kernelspec": {
   "display_name": "Python 3",
   "language": "python",
   "name": "python3"
  },
  "language_info": {
   "codemirror_mode": {
    "name": "ipython",
    "version": 3
   },
   "file_extension": ".py",
   "mimetype": "text/x-python",
   "name": "python",
   "nbconvert_exporter": "python",
   "pygments_lexer": "ipython3",
   "version": "3.7.4"
  }
 },
 "nbformat": 4,
 "nbformat_minor": 2
}
